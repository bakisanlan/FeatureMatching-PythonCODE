{
 "cells": [
  {
   "cell_type": "code",
   "execution_count": 13,
   "id": "5ed96927",
   "metadata": {},
   "outputs": [],
   "source": [
    "from utils import *\n",
    "\n",
    "import numpy as np\n",
    "import pymap3d as pm\n",
    "from Timer import Timer"
   ]
  },
  {
   "cell_type": "code",
   "execution_count": 1,
   "id": "263eb982",
   "metadata": {},
   "outputs": [
    {
     "ename": "NameError",
     "evalue": "name '__file__' is not defined",
     "output_type": "error",
     "traceback": [
      "\u001b[0;31m---------------------------------------------------------------------------\u001b[0m",
      "\u001b[0;31mNameError\u001b[0m                                 Traceback (most recent call last)",
      "Cell \u001b[0;32mIn[1], line 5\u001b[0m\n\u001b[1;32m      1\u001b[0m \u001b[38;5;28;01mimport\u001b[39;00m\u001b[38;5;250m \u001b[39m\u001b[38;5;21;01mos\u001b[39;00m   \n\u001b[1;32m      3\u001b[0m \u001b[38;5;28;01mimport\u001b[39;00m\u001b[38;5;250m \u001b[39m\u001b[38;5;21;01msys\u001b[39;00m\n\u001b[0;32m----> 5\u001b[0m os\u001b[38;5;241m.\u001b[39mpath\u001b[38;5;241m.\u001b[39mdirname(os\u001b[38;5;241m.\u001b[39mpath\u001b[38;5;241m.\u001b[39mabspath(\u001b[38;5;18;43m__file__\u001b[39;49m))\n",
      "\u001b[0;31mNameError\u001b[0m: name '__file__' is not defined"
     ]
    }
   ],
   "source": [
    "import os   \n",
    "\n",
    "import sys\n",
    "\n",
    "os.path.dirname(os.path.abspath(__file__))"
   ]
  },
  {
   "cell_type": "code",
   "execution_count": 3,
   "id": "8b396434",
   "metadata": {},
   "outputs": [],
   "source": [
    "lla0 = [41.102275061226244, 29.0245487284028, 0]\n",
    "\n",
    "lla1 = [41.111279536740533\t,29.036452782236729\t,-1000]\n",
    "\n",
    "ned = lla2ned(lla1[0], lla1[1], lla1[2], lla0[0], lla0[1], lla0[2])"
   ]
  },
  {
   "cell_type": "code",
   "execution_count": 14,
   "id": "24b8c5eb",
   "metadata": {},
   "outputs": [],
   "source": [
    "ned2 = pm.geodetic2ned(lla1[0], lla1[1], lla1[2], lla0[0], lla0[1], lla0[2])"
   ]
  },
  {
   "cell_type": "code",
   "execution_count": 4,
   "id": "f56b6686",
   "metadata": {},
   "outputs": [
    {
     "data": {
      "text/plain": [
       "(1002.3736291113255, 998.5523583937108, 1000)"
      ]
     },
     "execution_count": 4,
     "metadata": {},
     "output_type": "execute_result"
    }
   ],
   "source": [
    "ned"
   ]
  },
  {
   "cell_type": "code",
   "execution_count": 51,
   "id": "53c70b56",
   "metadata": {},
   "outputs": [
    {
     "name": "stdout",
     "output_type": "stream",
     "text": [
      "[NED to ENU conversion]\n",
      "Elapsed: 0.00586700439453125\n"
     ]
    }
   ],
   "source": [
    "\n",
    "with Timer(\"NED to ENU conversion\"):\n",
    "    for i in range(10):\n",
    "\n",
    "        ned2 = pm.geodetic2ned(lla1[0], lla1[1], lla1[2], lla0[0], lla0[1], lla0[2])\n",
    "        # ned = lla2ned(lla1[0], lla1[1], lla1[2], lla0[0], lla0[1], lla0[2])"
   ]
  },
  {
   "cell_type": "code",
   "execution_count": null,
   "id": "4f03c878",
   "metadata": {},
   "outputs": [],
   "source": [
    "\n",
    "R = quat2rotm(eul2quat(np.deg2rad([45, 0, 0])))  \n"
   ]
  },
  {
   "cell_type": "code",
   "execution_count": 11,
   "id": "f2858da0",
   "metadata": {},
   "outputs": [
    {
     "data": {
      "text/plain": [
       "array([[0.70710678],\n",
       "       [0.70710678],\n",
       "       [0.        ]])"
      ]
     },
     "execution_count": 11,
     "metadata": {},
     "output_type": "execute_result"
    }
   ],
   "source": [
    "R  @ np.array([[1, 0, 0]]).T  # Rotate the vector [1, 0, 0] by the rotation matrix R"
   ]
  },
  {
   "cell_type": "code",
   "execution_count": null,
   "id": "49c83d2d",
   "metadata": {},
   "outputs": [
    {
     "data": {
      "text/plain": [
       "(3,)"
      ]
     },
     "execution_count": 10,
     "metadata": {},
     "output_type": "execute_result"
    }
   ],
   "source": [
    "np.array([1, 0, 0]).T."
   ]
  },
  {
   "cell_type": "code",
   "execution_count": 44,
   "id": "968af2fb",
   "metadata": {},
   "outputs": [
    {
     "name": "stdout",
     "output_type": "stream",
     "text": [
      "Heading: 32.888013823689334 degrees\n"
     ]
    }
   ],
   "source": [
    "\n",
    "mag = np.array([100, 56, 0])  # Example magnetometer reading\n",
    "quat = eul2quat(np.deg2rad([0, -30, 0]))  # Example quaternion from MAVROS\n",
    "quat_mavros = quat[1], quat[2], quat[3], quat[0]  # Reorder to [w, x, y, z]\n",
    "heading = calculate_heading(mag, quat_mavros, 0)\n",
    "print(f\"Heading: {np.rad2deg(heading)} degrees\")\n"
   ]
  },
  {
   "cell_type": "code",
   "execution_count": 3,
   "id": "26bd8049",
   "metadata": {},
   "outputs": [
    {
     "data": {
      "text/plain": [
       "(0.0, 0.0, 0.0, 1.0)"
      ]
     },
     "execution_count": 3,
     "metadata": {},
     "output_type": "execute_result"
    }
   ],
   "source": [
    "quat_mavros"
   ]
  },
  {
   "cell_type": "code",
   "execution_count": 15,
   "id": "a4b08120",
   "metadata": {},
   "outputs": [
    {
     "data": {
      "text/plain": [
       "0.8068730671576461"
      ]
     },
     "execution_count": 15,
     "metadata": {},
     "output_type": "execute_result"
    }
   ],
   "source": [
    "heading"
   ]
  },
  {
   "cell_type": "code",
   "execution_count": 59,
   "id": "a3aa1d20",
   "metadata": {},
   "outputs": [
    {
     "name": "stdout",
     "output_type": "stream",
     "text": [
      "[[0.5488135  0.71518937 0.60276338]\n",
      " [0.54488318 0.4236548  0.64589411]\n",
      " [0.43758721 0.891773   0.96366276]]\n",
      "(4, 3, 3)\n",
      "[0.38344152 0.79172504 0.52889492]\n",
      "(3,)\n",
      "[[1.0954697  0.88595906 1.38350446]\n",
      " [1.0954697  0.88595906 1.38350446]\n",
      " [1.0954697  0.88595906 1.38350446]\n",
      " [1.0954697  0.88595906 1.38350446]]\n",
      "[[5.4773485  4.42979531 6.91752228]\n",
      " [5.4773485  4.42979531 6.91752228]\n",
      " [5.4773485  4.42979531 6.91752228]\n",
      " [5.4773485  4.42979531 6.91752228]]\n"
     ]
    }
   ],
   "source": [
    "np.random.seed(0)\n",
    "R = np.random.rand(3, 3)\n",
    "R_tile = np.tile(R, (4, 1, 1))\n",
    "\n",
    "print(R)\n",
    "\n",
    "\n",
    "print(R_tile.shape)\n",
    "\n",
    "v = np.random.rand(3)\n",
    "print(v)\n",
    "print(v.shape)\n",
    "\n",
    "print((R_tile.dot(v)))\n",
    "\n",
    "print((5*(R_tile @ v)))\n",
    "\n"
   ]
  },
  {
   "cell_type": "code",
   "execution_count": null,
   "id": "af08a08c",
   "metadata": {},
   "outputs": [
    {
     "data": {
      "text/plain": [
       "np.float64(0.2533471031357997)"
      ]
     },
     "execution_count": 70,
     "metadata": {},
     "output_type": "execute_result"
    }
   ],
   "source": [
    "from scipy.stats import norm\n",
    "\n",
    "norm.ppf(0.6)"
   ]
  },
  {
   "cell_type": "code",
   "execution_count": 259,
   "id": "c79bd2e0",
   "metadata": {},
   "outputs": [
    {
     "data": {
      "text/plain": [
       "1.74643361927344e+18"
      ]
     },
     "execution_count": 259,
     "metadata": {},
     "output_type": "execute_result"
    }
   ],
   "source": [
    "1746433619173440000 + (0.1)*1e9"
   ]
  },
  {
   "cell_type": "code",
   "execution_count": 87,
   "id": "bcf1b4fa",
   "metadata": {},
   "outputs": [
    {
     "name": "stdout",
     "output_type": "stream",
     "text": [
      "None\n"
     ]
    }
   ],
   "source": [
    "arr = np.arange(10)\n",
    "\n",
    "\n",
    "# arr = np.random.shuffle(arr)\n",
    "# print(arr)\n",
    "\n",
    "a = np.random.shuffle(arr)\n",
    "print(a)\n"
   ]
  },
  {
   "cell_type": "code",
   "execution_count": 9,
   "id": "0dc97288",
   "metadata": {},
   "outputs": [
    {
     "data": {
      "text/plain": [
       "array([[ 0.69355581,  2.5811645 ,  2.34115902,  0.61717768,  3.08772877,\n",
       "         1.37051904,  1.70509866,  2.21379594, -2.77592676,  0.99302111]])"
      ]
     },
     "execution_count": 9,
     "metadata": {},
     "output_type": "execute_result"
    }
   ],
   "source": [
    "from utils import *\n",
    "\n",
    "wrap2_pi(np.random.rand(1,10))"
   ]
  },
  {
   "cell_type": "code",
   "execution_count": 257,
   "id": "95b699a8",
   "metadata": {},
   "outputs": [
    {
     "data": {
      "text/plain": [
       "-20.0"
      ]
     },
     "execution_count": 257,
     "metadata": {},
     "output_type": "execute_result"
    }
   ],
   "source": [
    "1 / (1403636579813550000 - 1403636579863550000) * 1e9"
   ]
  },
  {
   "cell_type": "code",
   "execution_count": 245,
   "id": "2776a771",
   "metadata": {},
   "outputs": [],
   "source": [
    "fold = 'data/videos/itu_video_05052025.npy'\n",
    "dt = np.load(fold)\n",
    "import cv2"
   ]
  },
  {
   "cell_type": "code",
   "execution_count": 250,
   "id": "d6de202e",
   "metadata": {},
   "outputs": [
    {
     "data": {
      "text/plain": [
       "(256, 256, 3)"
      ]
     },
     "execution_count": 250,
     "metadata": {},
     "output_type": "execute_result"
    }
   ],
   "source": [
    "dt[1200].shape"
   ]
  },
  {
   "cell_type": "code",
   "execution_count": 255,
   "id": "bb8e1317",
   "metadata": {},
   "outputs": [],
   "source": [
    "cv2.imshow('a',cv2.resize(dt[1200], (600,600)))\n",
    "cv2.waitKey(0)\n",
    "cv2.destroyAllWindows()\n"
   ]
  },
  {
   "cell_type": "code",
   "execution_count": 69,
   "id": "dffd1a5d",
   "metadata": {},
   "outputs": [
    {
     "name": "stdout",
     "output_type": "stream",
     "text": [
      "[[100.          81.64965809 100.        ]]\n"
     ]
    }
   ],
   "source": [
    "alt                     = 100\n",
    "rotM_hypo               = quat2rotm(eul2quat(np.deg2rad([0,45,-30])))                           # shape (N, 3, 3)\n",
    "range_fimder_body       = np.array([0, 0, 1])                       # Assuming the range is in the Z direction\n",
    "range_finder_world      = rotM_hypo @ range_fimder_body             # shape (N, 3)\n",
    "scale                   = abs(alt) / range_finder_world[2]  # shape (N,)\n",
    "delta_pos               = range_finder_world * scale.reshape(-1,1)  # shape (N, 3)\n",
    "print(delta_pos)"
   ]
  },
  {
   "cell_type": "code",
   "execution_count": 54,
   "id": "dc35353b",
   "metadata": {},
   "outputs": [
    {
     "name": "stdout",
     "output_type": "stream",
     "text": [
      "[a]\n",
      "Elapsed: 0.48070287704467773\n"
     ]
    }
   ],
   "source": [
    "m = arr.shape[0]\n",
    "\n",
    "with Timer('a'):\n",
    "    \n",
    "    for i in range(50000):\n",
    "\n",
    "        drop_idx = np.random.choice(m, size=n, replace=False)  # O(n)\n",
    "        new_arr  = np.delete(arr, drop_idx, axis=0)            # O((m-n)*k)"
   ]
  },
  {
   "cell_type": "code",
   "execution_count": 14,
   "id": "763c35ed",
   "metadata": {},
   "outputs": [
    {
     "data": {
      "text/plain": [
       "array([ 1,  6,  8, 10, 13, 15, 17, 18, 19, 20, 22, 24, 26, 27, 30, 31, 32,\n",
       "       34, 36, 38, 44, 49, 50, 51, 52, 53, 55, 57, 59, 60, 62, 63, 65, 66,\n",
       "       67, 70, 72, 80, 81, 82, 83, 84, 86, 87, 88, 90, 92, 93, 96, 98])"
      ]
     },
     "execution_count": 14,
     "metadata": {},
     "output_type": "execute_result"
    }
   ],
   "source": [
    "new_arr"
   ]
  }
 ],
 "metadata": {
  "kernelspec": {
   "display_name": "bakiMPF",
   "language": "python",
   "name": "python3"
  },
  "language_info": {
   "codemirror_mode": {
    "name": "ipython",
    "version": 3
   },
   "file_extension": ".py",
   "mimetype": "text/x-python",
   "name": "python",
   "nbconvert_exporter": "python",
   "pygments_lexer": "ipython3",
   "version": "3.10.18"
  }
 },
 "nbformat": 4,
 "nbformat_minor": 5
}
