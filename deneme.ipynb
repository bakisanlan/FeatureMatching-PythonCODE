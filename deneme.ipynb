{
 "cells": [
  {
   "cell_type": "code",
   "execution_count": 82,
   "id": "5ed96927",
   "metadata": {},
   "outputs": [
    {
     "data": {
      "text/plain": [
       "array([2, 3, 4])"
      ]
     },
     "execution_count": 82,
     "metadata": {},
     "output_type": "execute_result"
    }
   ],
   "source": [
    "import numpy as np\n",
    "\n",
    "arr = np.arange(100)\n",
    "n = 20  # number of rows to remove\n",
    "m = arr.shape[0]\n",
    "\n",
    "# np.random.seed(0)\n",
    "\n",
    "# with Timer('a'):\n",
    "    \n",
    "#     for i in range(50000):\n",
    "\n",
    "#         perm = np.random.permutation(m)    # O(m)\n",
    "#         keep_idx = perm[n:]               # indices of rows to keep\n",
    "#         new_arr = arr[keep_idx]            # O((m-n)*k)\n",
    "        \n",
    "# new_arr.shape\n",
    "# keep_idx.shape\n",
    "arr[2:5]\n"
   ]
  },
  {
   "cell_type": "code",
   "execution_count": 19,
   "id": "4f03c878",
   "metadata": {},
   "outputs": [
    {
     "name": "stderr",
     "output_type": "stream",
     "text": [
      "c:\\Users\\cyber\\anaconda3\\envs\\bakiMPF\\Lib\\site-packages\\IPython\\core\\interactiveshell.py:3579: UserWarning: Gimbal lock detected. Setting third angle to zero since it is not possible to uniquely determine all angles.\n",
      "  exec(code_obj, self.user_global_ns, self.user_ns)\n"
     ]
    },
    {
     "data": {
      "text/plain": [
       "(4, 3)"
      ]
     },
     "execution_count": 19,
     "metadata": {},
     "output_type": "execute_result"
    }
   ],
   "source": [
    "from utils import *\n",
    "import numpy as np\n",
    "# Generate a random quaternion\n",
    "quat = np.array([0.7071, 0.0, 0.7071, 0.0])  # Example quaternion (w, x, y, z)\n",
    "quat = np.tile(quat, (4, 1))\n",
    "\n",
    "rotm = quat2rotm(quat)\n",
    "a = quat2eul(rotm2quat(rotm))\n",
    "\n",
    "a.shape"
   ]
  },
  {
   "cell_type": "code",
   "execution_count": 59,
   "id": "a3aa1d20",
   "metadata": {},
   "outputs": [
    {
     "name": "stdout",
     "output_type": "stream",
     "text": [
      "[[0.5488135  0.71518937 0.60276338]\n",
      " [0.54488318 0.4236548  0.64589411]\n",
      " [0.43758721 0.891773   0.96366276]]\n",
      "(4, 3, 3)\n",
      "[0.38344152 0.79172504 0.52889492]\n",
      "(3,)\n",
      "[[1.0954697  0.88595906 1.38350446]\n",
      " [1.0954697  0.88595906 1.38350446]\n",
      " [1.0954697  0.88595906 1.38350446]\n",
      " [1.0954697  0.88595906 1.38350446]]\n",
      "[[5.4773485  4.42979531 6.91752228]\n",
      " [5.4773485  4.42979531 6.91752228]\n",
      " [5.4773485  4.42979531 6.91752228]\n",
      " [5.4773485  4.42979531 6.91752228]]\n"
     ]
    }
   ],
   "source": [
    "np.random.seed(0)\n",
    "R = np.random.rand(3, 3)\n",
    "R_tile = np.tile(R, (4, 1, 1))\n",
    "\n",
    "print(R)\n",
    "\n",
    "\n",
    "print(R_tile.shape)\n",
    "\n",
    "v = np.random.rand(3)\n",
    "print(v)\n",
    "print(v.shape)\n",
    "\n",
    "print((R_tile.dot(v)))\n",
    "\n",
    "print((5*(R_tile @ v)))\n",
    "\n"
   ]
  },
  {
   "cell_type": "code",
   "execution_count": 62,
   "id": "af08a08c",
   "metadata": {},
   "outputs": [
    {
     "data": {
      "text/plain": [
       "array([[1.0954697 , 0.        , 1.38350446],\n",
       "       [1.0954697 , 0.        , 1.38350446],\n",
       "       [1.0954697 , 0.        , 1.38350446],\n",
       "       [1.0954697 , 0.        , 1.38350446]])"
      ]
     },
     "execution_count": 62,
     "metadata": {},
     "output_type": "execute_result"
    }
   ],
   "source": [
    "a = R_tile.dot(v)\n",
    "a[:, 1] = 0\n",
    "a"
   ]
  },
  {
   "cell_type": "code",
   "execution_count": 15,
   "id": "bcf1b4fa",
   "metadata": {},
   "outputs": [],
   "source": [
    "from Timer import Timer"
   ]
  },
  {
   "cell_type": "code",
   "execution_count": 69,
   "id": "dffd1a5d",
   "metadata": {},
   "outputs": [
    {
     "name": "stdout",
     "output_type": "stream",
     "text": [
      "[[100.          81.64965809 100.        ]]\n"
     ]
    }
   ],
   "source": [
    "alt                     = 100\n",
    "rotM_hypo               = quat2rotm(eul2quat(np.deg2rad([0,45,-30])))                           # shape (N, 3, 3)\n",
    "range_fimder_body       = np.array([0, 0, 1])                       # Assuming the range is in the Z direction\n",
    "range_finder_world      = rotM_hypo @ range_fimder_body             # shape (N, 3)\n",
    "scale                   = abs(alt) / range_finder_world[2]  # shape (N,)\n",
    "delta_pos               = range_finder_world * scale.reshape(-1,1)  # shape (N, 3)\n",
    "print(delta_pos)"
   ]
  },
  {
   "cell_type": "code",
   "execution_count": 54,
   "id": "dc35353b",
   "metadata": {},
   "outputs": [
    {
     "name": "stdout",
     "output_type": "stream",
     "text": [
      "[a]\n",
      "Elapsed: 0.48070287704467773\n"
     ]
    }
   ],
   "source": [
    "m = arr.shape[0]\n",
    "\n",
    "with Timer('a'):\n",
    "    \n",
    "    for i in range(50000):\n",
    "\n",
    "        drop_idx = np.random.choice(m, size=n, replace=False)  # O(n)\n",
    "        new_arr  = np.delete(arr, drop_idx, axis=0)            # O((m-n)*k)"
   ]
  },
  {
   "cell_type": "code",
   "execution_count": 14,
   "id": "763c35ed",
   "metadata": {},
   "outputs": [
    {
     "data": {
      "text/plain": [
       "array([ 1,  6,  8, 10, 13, 15, 17, 18, 19, 20, 22, 24, 26, 27, 30, 31, 32,\n",
       "       34, 36, 38, 44, 49, 50, 51, 52, 53, 55, 57, 59, 60, 62, 63, 65, 66,\n",
       "       67, 70, 72, 80, 81, 82, 83, 84, 86, 87, 88, 90, 92, 93, 96, 98])"
      ]
     },
     "execution_count": 14,
     "metadata": {},
     "output_type": "execute_result"
    }
   ],
   "source": [
    "new_arr"
   ]
  }
 ],
 "metadata": {
  "kernelspec": {
   "display_name": "bakiMPF",
   "language": "python",
   "name": "python3"
  },
  "language_info": {
   "codemirror_mode": {
    "name": "ipython",
    "version": 3
   },
   "file_extension": ".py",
   "mimetype": "text/x-python",
   "name": "python",
   "nbconvert_exporter": "python",
   "pygments_lexer": "ipython3",
   "version": "3.12.8"
  }
 },
 "nbformat": 4,
 "nbformat_minor": 5
}
