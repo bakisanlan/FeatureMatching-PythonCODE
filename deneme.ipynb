{
 "cells": [
  {
   "cell_type": "code",
   "execution_count": 7,
   "id": "5ed96927",
   "metadata": {},
   "outputs": [
    {
     "name": "stdout",
     "output_type": "stream",
     "text": [
      "Key 'c' does not exist in dic.\n"
     ]
    }
   ],
   "source": [
    "dic = {'a' : 3 , 'param' : 4}\n",
    "\n",
    "# if 'c' in dic:\n",
    "#     print(\"Key 'c' exists in dic.\")\n",
    "# else:\n",
    "#     print(\"Key 'c' does not exist in dic.\")\n",
    "\n",
    "\n",
    "if 'c' not in dic:\n",
    "    print(\"Key 'c' does not exist in dic.\")"
   ]
  }
 ],
 "metadata": {
  "kernelspec": {
   "display_name": "bakiMPF",
   "language": "python",
   "name": "python3"
  },
  "language_info": {
   "codemirror_mode": {
    "name": "ipython",
    "version": 3
   },
   "file_extension": ".py",
   "mimetype": "text/x-python",
   "name": "python",
   "nbconvert_exporter": "python",
   "pygments_lexer": "ipython3",
   "version": "3.12.8"
  }
 },
 "nbformat": 4,
 "nbformat_minor": 5
}
