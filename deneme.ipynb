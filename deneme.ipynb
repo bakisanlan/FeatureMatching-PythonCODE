{
 "cells": [
  {
   "cell_type": "code",
   "execution_count": 82,
   "id": "5ed96927",
   "metadata": {},
   "outputs": [
    {
     "data": {
      "text/plain": [
       "array([2, 3, 4])"
      ]
     },
     "execution_count": 82,
     "metadata": {},
     "output_type": "execute_result"
    }
   ],
   "source": [
    "import numpy as np\n",
    "\n",
    "arr = np.arange(100)\n",
    "n = 20  # number of rows to remove\n",
    "m = arr.shape[0]\n",
    "\n",
    "# np.random.seed(0)\n",
    "\n",
    "# with Timer('a'):\n",
    "    \n",
    "#     for i in range(50000):\n",
    "\n",
    "#         perm = np.random.permutation(m)    # O(m)\n",
    "#         keep_idx = perm[n:]               # indices of rows to keep\n",
    "#         new_arr = arr[keep_idx]            # O((m-n)*k)\n",
    "        \n",
    "# new_arr.shape\n",
    "# keep_idx.shape\n",
    "arr[2:5]\n"
   ]
  },
  {
   "cell_type": "code",
   "execution_count": 68,
   "id": "4f03c878",
   "metadata": {},
   "outputs": [
    {
     "data": {
      "text/plain": [
       "array([29, 58, 66, 75, 27,  4, 41, 50, 63,  6, 74, 93, 15, 95, 46, 96,  3,\n",
       "       78, 49, 91, 62, 20, 76, 48, 37,  7, 10, 70, 32, 98, 80, 68, 26, 94,\n",
       "       81, 89, 59, 39, 18, 55, 67,  0,  9, 35, 17, 28, 73, 53, 69, 86,  2,\n",
       "       47, 61, 87, 88, 45, 85,  1, 38, 84, 19, 83, 21, 52, 25, 44, 12, 64,\n",
       "        5, 56, 99, 92, 24, 60, 97, 11, 36, 72, 23, 43, 90, 30, 40, 22, 33,\n",
       "       31, 71, 77, 54, 42, 51, 13, 65, 16,  8, 34, 82, 57, 79, 14],\n",
       "      dtype=int32)"
      ]
     },
     "execution_count": 68,
     "metadata": {},
     "output_type": "execute_result"
    }
   ],
   "source": [
    "perm\n"
   ]
  },
  {
   "cell_type": "code",
   "execution_count": 69,
   "id": "af08a08c",
   "metadata": {},
   "outputs": [
    {
     "data": {
      "text/plain": [
       "array([ 2, 47, 61, 87, 88, 45, 85,  1, 38, 84, 19, 83, 21, 52, 25, 44, 12,\n",
       "       64,  5, 56, 99, 92, 24, 60, 97, 11, 36, 72, 23, 43, 90, 30, 40, 22,\n",
       "       33, 31, 71, 77, 54, 42, 51, 13, 65, 16,  8, 34, 82, 57, 79, 14],\n",
       "      dtype=int32)"
      ]
     },
     "execution_count": 69,
     "metadata": {},
     "output_type": "execute_result"
    }
   ],
   "source": [
    "perm[n:]"
   ]
  },
  {
   "cell_type": "code",
   "execution_count": 15,
   "id": "bcf1b4fa",
   "metadata": {},
   "outputs": [],
   "source": [
    "from Timer import Timer"
   ]
  },
  {
   "cell_type": "code",
   "execution_count": 12,
   "id": "dffd1a5d",
   "metadata": {},
   "outputs": [
    {
     "data": {
      "text/plain": [
       "array([96, 63, 52, 22, 31, 98, 14, 64, 70, 25, 12, 47, 58, 11, 68, 56, 79,\n",
       "       28, 37,  7, 77, 39, 35,  4, 76, 65, 94, 32, 46, 30, 19, 95, 83, 43,\n",
       "        1, 13, 55, 21, 57, 88, 18, 15, 34, 93, 74, 48, 27, 53, 36, 66])"
      ]
     },
     "execution_count": 12,
     "metadata": {},
     "output_type": "execute_result"
    }
   ],
   "source": [
    "new_arr"
   ]
  },
  {
   "cell_type": "code",
   "execution_count": 54,
   "id": "dc35353b",
   "metadata": {},
   "outputs": [
    {
     "name": "stdout",
     "output_type": "stream",
     "text": [
      "[a]\n",
      "Elapsed: 0.48070287704467773\n"
     ]
    }
   ],
   "source": [
    "m = arr.shape[0]\n",
    "\n",
    "with Timer('a'):\n",
    "    \n",
    "    for i in range(50000):\n",
    "\n",
    "        drop_idx = np.random.choice(m, size=n, replace=False)  # O(n)\n",
    "        new_arr  = np.delete(arr, drop_idx, axis=0)            # O((m-n)*k)"
   ]
  },
  {
   "cell_type": "code",
   "execution_count": 14,
   "id": "763c35ed",
   "metadata": {},
   "outputs": [
    {
     "data": {
      "text/plain": [
       "array([ 1,  6,  8, 10, 13, 15, 17, 18, 19, 20, 22, 24, 26, 27, 30, 31, 32,\n",
       "       34, 36, 38, 44, 49, 50, 51, 52, 53, 55, 57, 59, 60, 62, 63, 65, 66,\n",
       "       67, 70, 72, 80, 81, 82, 83, 84, 86, 87, 88, 90, 92, 93, 96, 98])"
      ]
     },
     "execution_count": 14,
     "metadata": {},
     "output_type": "execute_result"
    }
   ],
   "source": [
    "new_arr"
   ]
  }
 ],
 "metadata": {
  "kernelspec": {
   "display_name": "bakiMPF",
   "language": "python",
   "name": "python3"
  },
  "language_info": {
   "codemirror_mode": {
    "name": "ipython",
    "version": 3
   },
   "file_extension": ".py",
   "mimetype": "text/x-python",
   "name": "python",
   "nbconvert_exporter": "python",
   "pygments_lexer": "ipython3",
   "version": "3.12.8"
  }
 },
 "nbformat": 4,
 "nbformat_minor": 5
}
