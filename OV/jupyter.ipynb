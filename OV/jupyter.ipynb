{
 "cells": [
  {
   "cell_type": "code",
   "execution_count": 1,
   "id": "10a7eb48",
   "metadata": {},
   "outputs": [],
   "source": [
    "from utils_OV.guidance_utils import TrajectoryGeneratorV2\n",
    "import numpy as np"
   ]
  },
  {
   "cell_type": "code",
   "execution_count": null,
   "id": "f88c2068",
   "metadata": {},
   "outputs": [],
   "source": []
  },
  {
   "cell_type": "code",
   "execution_count": null,
   "id": "59825459",
   "metadata": {},
   "outputs": [],
   "source": []
  },
  {
   "cell_type": "code",
   "execution_count": 4,
   "id": "ce604e3c",
   "metadata": {},
   "outputs": [],
   "source": [
    "with open('config/guidance_and_control_parameters.yaml') as f:\n",
    "    gc_params = yaml.safe_load(f)"
   ]
  },
  {
   "cell_type": "code",
   "execution_count": null,
   "id": "3f04dee8",
   "metadata": {},
   "outputs": [],
   "source": []
  },
  {
   "cell_type": "code",
   "execution_count": 18,
   "id": "ebbae617",
   "metadata": {},
   "outputs": [],
   "source": [
    "traj = TrajectoryGeneratorV2(sampling_freq=10, max_vel=[8.0,8,8], max_acc=[5.0,5,5])\n",
    "\n",
    "wpts_alt = 30.0\n",
    "edge_length = 50.0\n",
    "# Generate waypoints\n",
    "wp_list = traj.generate_wp_list_for_square_trajectory(edge_length, wpts_alt)\n",
    "# wp_list = np.vstack((wp_list, wp_list, wp_list))"
   ]
  },
  {
   "cell_type": "code",
   "execution_count": 19,
   "id": "56476949",
   "metadata": {},
   "outputs": [],
   "source": [
    "wp_list = np.array(wp_list)\n",
    "#initial_position = np.array([0,0,0.0])\n"
   ]
  },
  {
   "cell_type": "code",
   "execution_count": 16,
   "id": "0819db5c",
   "metadata": {},
   "outputs": [],
   "source": [
    "shaped_wp_list = np.insert(wp_list, 3, initial_position, axis=0)\n"
   ]
  },
  {
   "cell_type": "code",
   "execution_count": 17,
   "id": "321004b3",
   "metadata": {},
   "outputs": [
    {
     "data": {
      "text/plain": [
       "array([[  0.,   0., -30.],\n",
       "       [ 25.,   0., -30.],\n",
       "       [ 50.,   0., -30.],\n",
       "       [  0.,   0.,   0.],\n",
       "       [ 50., -25., -30.],\n",
       "       [ 50., -50., -30.],\n",
       "       [ 25., -50., -30.],\n",
       "       [  0., -50., -30.],\n",
       "       [  0., -25., -30.],\n",
       "       [  0.,   0., -30.]])"
      ]
     },
     "execution_count": 17,
     "metadata": {},
     "output_type": "execute_result"
    }
   ],
   "source": [
    "shaped_wp_list"
   ]
  },
  {
   "cell_type": "code",
   "execution_count": 20,
   "id": "1ab8da82",
   "metadata": {},
   "outputs": [],
   "source": [
    "traj.generate_traj_from_wplist_interp(wp_list, coordinate_type=\"ned\")\n",
    "generated_traj = traj.get_pos_vel_acc_in_ned()\n"
   ]
  },
  {
   "cell_type": "code",
   "execution_count": 32,
   "id": "91f8453c",
   "metadata": {},
   "outputs": [
    {
     "data": {
      "text/plain": [
       "array([[ 0.00000000e+00,  0.00000000e+00, -3.00000000e+01],\n",
       "       [ 1.16518990e-02, -5.01743018e-06, -3.00000000e+01],\n",
       "       [ 4.61049353e-02, -4.01394415e-05, -3.00000000e+01],\n",
       "       ...,\n",
       "       [ 1.35470615e-04, -1.02605118e-01, -3.00000000e+01],\n",
       "       [ 4.01394415e-05, -4.61049353e-02, -3.00000000e+01],\n",
       "       [ 5.01743018e-06, -1.16518990e-02, -3.00000000e+01]])"
      ]
     },
     "execution_count": 32,
     "metadata": {},
     "output_type": "execute_result"
    }
   ],
   "source": [
    "generated_traj['pos']"
   ]
  },
  {
   "cell_type": "code",
   "execution_count": 33,
   "id": "502e4bc7",
   "metadata": {},
   "outputs": [],
   "source": [
    "traj.generate_traj_from_wplist_interp(np.array([np.array([1,2,3]), np.array([0,0,0]) ]), coordinate_type=\"ned\")\n",
    "generated_traj = traj.get_pos_vel_acc_in_ned()"
   ]
  },
  {
   "cell_type": "code",
   "execution_count": 37,
   "id": "f61dfefa",
   "metadata": {},
   "outputs": [
    {
     "data": {
      "text/plain": [
       "array([[ 1.00000000e+00,  2.00000000e+00,  3.00000000e+00],\n",
       "       [ 9.87301587e-01,  1.98738624e+00,  2.97468783e+00],\n",
       "       [ 9.51746032e-01,  1.95242328e+00,  2.90416931e+00],\n",
       "       [ 8.97142857e-01,  1.89942857e+00,  2.79657143e+00],\n",
       "       [ 8.27301587e-01,  1.83271958e+00,  2.66002116e+00],\n",
       "       [ 7.46031746e-01,  1.75661376e+00,  2.50264550e+00],\n",
       "       [ 6.57142857e-01,  1.67542857e+00,  2.33257143e+00],\n",
       "       [ 5.64444444e-01,  1.59348148e+00,  2.15792593e+00],\n",
       "       [ 4.71700176e-01,  1.51497707e+00,  1.98667725e+00],\n",
       "       [ 3.81619048e-01,  1.44152381e+00,  1.82314286e+00],\n",
       "       [ 2.95855379e-01,  1.37213404e+00,  1.66798942e+00],\n",
       "       [ 2.16017637e-01,  1.30570723e+00,  1.52172487e+00],\n",
       "       [ 1.43714286e-01,  1.24114286e+00,  1.38485714e+00],\n",
       "       [ 8.05537919e-02,  1.17734039e+00,  1.25789418e+00],\n",
       "       [ 2.81446208e-02,  1.11319929e+00,  1.14134392e+00],\n",
       "       [-1.19047619e-02,  1.04761905e+00,  1.03571429e+00],\n",
       "       [-3.86208113e-02,  9.79668430e-01,  9.41047619e-01],\n",
       "       [-5.35696649e-02,  9.09093474e-01,  8.55523810e-01],\n",
       "       [-5.89523810e-02,  8.35809524e-01,  7.76857143e-01],\n",
       "       [-5.69700176e-02,  7.59731922e-01,  7.02761905e-01],\n",
       "       [-4.98236332e-02,  6.80776014e-01,  6.30952381e-01],\n",
       "       [-3.97142857e-02,  5.98857143e-01,  5.59142857e-01],\n",
       "       [-2.88430335e-02,  5.13890653e-01,  4.85047619e-01],\n",
       "       [-1.93580247e-02,  4.25876543e-01,  4.06518519e-01],\n",
       "       [-1.21904762e-02,  3.36761905e-01,  3.24571429e-01],\n",
       "       [-7.05467372e-03,  2.50440917e-01,  2.43386243e-01],\n",
       "       [-3.61199295e-03,  1.70892416e-01,  1.67280423e-01],\n",
       "       [-1.52380952e-03,  1.02095238e-01,  1.00571429e-01],\n",
       "       [-4.51499118e-04,  4.80282187e-02,  4.75767196e-02],\n",
       "       [-5.64373898e-05,  1.26701940e-02,  1.26137566e-02]])"
      ]
     },
     "execution_count": 37,
     "metadata": {},
     "output_type": "execute_result"
    }
   ],
   "source": [
    "generated_traj['pos']"
   ]
  },
  {
   "cell_type": "code",
   "execution_count": 6,
   "id": "6a930af8",
   "metadata": {},
   "outputs": [
    {
     "name": "stdout",
     "output_type": "stream",
     "text": [
      "11\n"
     ]
    }
   ],
   "source": [
    "traj = TrajectoryGeneratorV2(sampling_freq=10, max_vel=[8.0,8,8], max_acc=[5.0,5,5])\n",
    "\n",
    "wp_list = traj.generate_wp_list_for_square_trajectory(100, 30, edge_inter_cp = 10)"
   ]
  },
  {
   "cell_type": "code",
   "execution_count": 20,
   "id": "047527d2",
   "metadata": {},
   "outputs": [],
   "source": [
    "wp_list = traj.generate_wp_list_for_square_trajectory(100, 30, edge_inter_cp = 3)"
   ]
  },
  {
   "cell_type": "code",
   "execution_count": 7,
   "id": "89a32770",
   "metadata": {},
   "outputs": [
    {
     "data": {
      "text/plain": [
       "[[0, 0, -30],\n",
       " [0.0, 0, -30],\n",
       " [9.090909090909092, 0, -30],\n",
       " [18.181818181818183, 0, -30],\n",
       " [27.272727272727273, 0, -30],\n",
       " [36.36363636363637, 0, -30],\n",
       " [45.45454545454546, 0, -30],\n",
       " [54.54545454545455, 0, -30],\n",
       " [63.63636363636364, 0, -30],\n",
       " [72.72727272727273, 0, -30],\n",
       " [81.81818181818183, 0, -30],\n",
       " [90.90909090909092, 0, -30],\n",
       " [100, 0.0, -30],\n",
       " [100, -9.090909090909092, -30],\n",
       " [100, -18.181818181818183, -30],\n",
       " [100, -27.272727272727273, -30],\n",
       " [100, -36.36363636363637, -30],\n",
       " [100, -45.45454545454546, -30],\n",
       " [100, -54.54545454545455, -30],\n",
       " [100, -63.63636363636364, -30],\n",
       " [100, -72.72727272727273, -30],\n",
       " [100, -81.81818181818183, -30],\n",
       " [100, -90.90909090909092, -30],\n",
       " [100.0, -100, -30],\n",
       " [90.9090909090909, -100, -30],\n",
       " [81.81818181818181, -100, -30],\n",
       " [72.72727272727272, -100, -30],\n",
       " [63.63636363636363, -100, -30],\n",
       " [54.54545454545454, -100, -30],\n",
       " [45.45454545454545, -100, -30],\n",
       " [36.36363636363636, -100, -30],\n",
       " [27.272727272727266, -100, -30],\n",
       " [18.181818181818173, -100, -30],\n",
       " [9.09090909090908, -100, -30],\n",
       " [0, -100.0, -30],\n",
       " [0, -90.9090909090909, -30],\n",
       " [0, -81.81818181818181, -30],\n",
       " [0, -72.72727272727272, -30],\n",
       " [0, -63.63636363636363, -30],\n",
       " [0, -54.54545454545454, -30],\n",
       " [0, -45.45454545454545, -30],\n",
       " [0, -36.36363636363636, -30],\n",
       " [0, -27.272727272727266, -30],\n",
       " [0, -18.181818181818173, -30],\n",
       " [0, -9.09090909090908, -30],\n",
       " [0, 0, -30]]"
      ]
     },
     "execution_count": 7,
     "metadata": {},
     "output_type": "execute_result"
    }
   ],
   "source": [
    "wp_list"
   ]
  }
 ],
 "metadata": {
  "kernelspec": {
   "display_name": "bakiMPF",
   "language": "python",
   "name": "python3"
  },
  "language_info": {
   "codemirror_mode": {
    "name": "ipython",
    "version": 3
   },
   "file_extension": ".py",
   "mimetype": "text/x-python",
   "name": "python",
   "nbconvert_exporter": "python",
   "pygments_lexer": "ipython3",
   "version": "3.10.18"
  }
 },
 "nbformat": 4,
 "nbformat_minor": 5
}
